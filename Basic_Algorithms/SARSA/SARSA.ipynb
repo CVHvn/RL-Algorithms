{
 "cells": [
  {
   "cell_type": "code",
   "execution_count": 7,
   "id": "90abff4e",
   "metadata": {},
   "outputs": [],
   "source": [
    "import copy\n",
    "import gymnasium as gym\n",
    "import numpy as np\n",
    "from datetime import datetime, timedelta"
   ]
  },
  {
   "cell_type": "code",
   "execution_count": 8,
   "id": "fabd747b",
   "metadata": {},
   "outputs": [],
   "source": [
    "class Config():\n",
    "    def __init__(self):\n",
    "        self.env_name = \"CartPole-v1\"\n",
    "        self.total_episode = 10000\n",
    "        self.gamma = 0.99\n",
    "        self.num_action = 2\n",
    "        self.n_bins = 10\n",
    "        self.epsilon=1.0\n",
    "        self.decay_step=int(0.5 * self.total_episode)\n",
    "        self.eps_min=0.05\n",
    "        self.lr = 0.1\n",
    "\n",
    "config = Config()"
   ]
  },
  {
   "cell_type": "code",
   "execution_count": 9,
   "id": "a1618392",
   "metadata": {},
   "outputs": [],
   "source": [
    "import numpy as np\n",
    "\n",
    "class Discretizer:\n",
    "    def __init__(self, n_bins=6):\n",
    "        self.n_bins = n_bins\n",
    "        self.cart_pos_bins = np.linspace(-4.8, 4.8, n_bins - 1)\n",
    "        self.cart_vel_bins = np.linspace(-3.0, 3.0, n_bins - 1)  \n",
    "        self.pole_angle_bins = np.linspace(-0.419, 0.419, n_bins - 1)\n",
    "        self.pole_vel_bins = np.linspace(-3.0, 3.0, n_bins - 1) \n",
    "\n",
    "    def discretize(self, state):\n",
    "        cart_pos, cart_vel, pole_angle, pole_vel = state\n",
    "\n",
    "        d_cart_pos = np.digitize(cart_pos, self.cart_pos_bins)\n",
    "        d_cart_vel = np.digitize(cart_vel, self.cart_vel_bins)\n",
    "        d_pole_angle = np.digitize(pole_angle, self.pole_angle_bins)\n",
    "        d_pole_vel = np.digitize(pole_vel, self.pole_vel_bins)\n",
    "\n",
    "        return (d_cart_pos, d_cart_vel, d_pole_angle, d_pole_vel)\n",
    "\n",
    "    def get_state_index(self, discrete_state):\n",
    "        d = discrete_state\n",
    "        return ((d[0] * self.n_bins + d[1]) * self.n_bins + d[2]) * self.n_bins + d[3]"
   ]
  },
  {
   "cell_type": "code",
   "execution_count": 10,
   "id": "ce80ebfa",
   "metadata": {},
   "outputs": [],
   "source": [
    "def select_action(Q_Table, state, epsilon):\n",
    "    if np.random.rand() < epsilon:\n",
    "        return np.random.randint(Q_Table.shape[1])\n",
    "    else:\n",
    "        return np.argmax(Q_Table[state])"
   ]
  },
  {
   "cell_type": "code",
   "execution_count": 11,
   "id": "9ad9678f",
   "metadata": {},
   "outputs": [],
   "source": [
    "def decay_epsilon(epsilon, decay_per_step):\n",
    "    epsilon = max(epsilon - decay_per_step, config.eps_min)\n",
    "    return epsilon"
   ]
  },
  {
   "cell_type": "code",
   "execution_count": null,
   "id": "b9b78b3f",
   "metadata": {},
   "outputs": [],
   "source": [
    "discretizer = Discretizer(config.n_bins)\n",
    "Q_Table = np.zeros((config.n_bins**4, config.num_action))\n",
    "episode_rewards = []\n",
    "epsilon = config.epsilon\n",
    "decay_per_step = (epsilon - config.eps_min) / config.decay_step\n",
    "\n",
    "for episode in range(config.total_episode):\n",
    "    env = gym.make(config.env_name)\n",
    "    state, _ = env.reset()\n",
    "    state = discretizer.get_state_index(discretizer.discretize(state))\n",
    "    done = False\n",
    "    action = select_action(Q_Table, state, epsilon)\n",
    "\n",
    "    episode_reward = 0.\n",
    "\n",
    "    while not done:\n",
    "        next_state, reward, terminated, truncated, info = env.step(action)\n",
    "        next_state = discretizer.get_state_index(discretizer.discretize(next_state))\n",
    "        episode_reward += reward\n",
    "        done = terminated or truncated\n",
    "        if not done:\n",
    "            next_action = select_action(Q_Table, next_state, epsilon)\n",
    "            target = Q_Table[next_state, next_action] * config.gamma + reward\n",
    "        else:\n",
    "            next_action = -1\n",
    "            target = reward\n",
    "        q_sa = Q_Table[state, action]\n",
    "        Q_Table[state, action] += config.lr * (target - q_sa)\n",
    "        state = next_state\n",
    "        action = next_action\n",
    "    \n",
    "    episode_rewards.append(episode_reward)\n",
    "    epsilon = decay_epsilon(epsilon, decay_per_step)\n",
    "    \n",
    "    if episode % 100 == 0:\n",
    "        print(f\"Episode: {episode} Rewards: {episode_reward} Mean_Rewards: {np.array(episode_rewards[-min(100, len(episode_rewards)):]).mean():.4f} Epsilon: {epsilon:.4f}\")"
   ]
  },
  {
   "cell_type": "code",
   "execution_count": null,
   "id": "97adbdf1",
   "metadata": {},
   "outputs": [],
   "source": []
  },
  {
   "cell_type": "code",
   "execution_count": null,
   "id": "02ce3ccf",
   "metadata": {},
   "outputs": [],
   "source": []
  }
 ],
 "metadata": {
  "kernelspec": {
   "display_name": "gym",
   "language": "python",
   "name": "python3"
  },
  "language_info": {
   "codemirror_mode": {
    "name": "ipython",
    "version": 3
   },
   "file_extension": ".py",
   "mimetype": "text/x-python",
   "name": "python",
   "nbconvert_exporter": "python",
   "pygments_lexer": "ipython3",
   "version": "3.8.18"
  }
 },
 "nbformat": 4,
 "nbformat_minor": 5
}
