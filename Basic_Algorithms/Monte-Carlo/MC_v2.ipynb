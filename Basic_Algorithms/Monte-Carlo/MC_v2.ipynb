{
 "cells": [
  {
   "cell_type": "code",
   "execution_count": null,
   "id": "3b493dc2",
   "metadata": {},
   "outputs": [],
   "source": [
    "import copy\n",
    "import gymnasium as gym\n",
    "import numpy as np\n",
    "from datetime import datetime, timedelta"
   ]
  },
  {
   "cell_type": "code",
   "execution_count": null,
   "id": "ee83661e",
   "metadata": {},
   "outputs": [],
   "source": [
    "class Config():\n",
    "    def __init__(self):\n",
    "        self.env_name = \"CartPole-v1\"\n",
    "        self.total_episode = 5000\n",
    "        self.gamma = 0.99\n",
    "        self.num_action = 2\n",
    "        self.n_bins = 10\n",
    "        self.epsilon=1.0\n",
    "        self.decay_step=int(0.1 * self.total_episode)\n",
    "        self.eps_min=0.05\n",
    "        self.test_frequency = 10\n",
    "\n",
    "config = Config()"
   ]
  },
  {
   "cell_type": "code",
   "execution_count": null,
   "id": "9f502b9f",
   "metadata": {},
   "outputs": [],
   "source": [
    "import numpy as np\n",
    "\n",
    "class Discretizer:\n",
    "    def __init__(self, n_bins=6):\n",
    "        self.n_bins = n_bins\n",
    "        self.cart_pos_bins = np.linspace(-4.8, 4.8, n_bins - 1)\n",
    "        self.cart_vel_bins = np.linspace(-3.0, 3.0, n_bins - 1)  \n",
    "        self.pole_angle_bins = np.linspace(-0.419, 0.419, n_bins - 1)\n",
    "        self.pole_vel_bins = np.linspace(-3.0, 3.0, n_bins - 1) \n",
    "\n",
    "    def discretize(self, state):\n",
    "        cart_pos, cart_vel, pole_angle, pole_vel = state\n",
    "\n",
    "        d_cart_pos = np.digitize(cart_pos, self.cart_pos_bins)\n",
    "        d_cart_vel = np.digitize(cart_vel, self.cart_vel_bins)\n",
    "        d_pole_angle = np.digitize(pole_angle, self.pole_angle_bins)\n",
    "        d_pole_vel = np.digitize(pole_vel, self.pole_vel_bins)\n",
    "\n",
    "        return (d_cart_pos, d_cart_vel, d_pole_angle, d_pole_vel)\n",
    "\n",
    "    def get_state_index(self, discrete_state):\n",
    "        d = discrete_state\n",
    "        return ((d[0] * self.n_bins + d[1]) * self.n_bins + d[2]) * self.n_bins + d[3]"
   ]
  },
  {
   "cell_type": "code",
   "execution_count": null,
   "id": "586522af",
   "metadata": {},
   "outputs": [],
   "source": [
    "def select_action(Q_Table, state, epsilon):\n",
    "    if np.random.rand() < epsilon:\n",
    "        return np.random.randint(config.num_action)\n",
    "    else:\n",
    "        return np.argmax(Q_Table[state])"
   ]
  },
  {
   "cell_type": "code",
   "execution_count": null,
   "id": "65d08d96",
   "metadata": {},
   "outputs": [],
   "source": [
    "def decay_epsilon(epsilon, decay_per_step):\n",
    "    epsilon = max(epsilon - decay_per_step, config.eps_min)\n",
    "    return epsilon"
   ]
  },
  {
   "cell_type": "code",
   "execution_count": null,
   "id": "89883c29",
   "metadata": {},
   "outputs": [],
   "source": [
    "def test(config, Q_Table, discretizer):\n",
    "    env = gym.make(config.env_name)\n",
    "    state, _ = env.reset()\n",
    "    state = discretizer.get_state_index(discretizer.discretize(state))\n",
    "    done = False\n",
    "    episode_reward = 0.\n",
    "\n",
    "    while not done:\n",
    "        action = np.argmax(Q_Table[state])\n",
    "        next_state, reward, terminated, truncated, info = env.step(action)\n",
    "        next_state = discretizer.get_state_index(discretizer.discretize(next_state))\n",
    "        episode_reward += reward\n",
    "        done = terminated or truncated\n",
    "        state = next_state\n",
    "    return episode_reward"
   ]
  },
  {
   "cell_type": "code",
   "execution_count": null,
   "id": "07f570ab",
   "metadata": {},
   "outputs": [],
   "source": [
    "def add(config, returns, Q_table, state, action = None, episode_return = 0):\n",
    "    if action is None:\n",
    "        for a in range(config.num_action):\n",
    "            returns[state][a].append(episode_return)\n",
    "            Q_table[state][a] = np.mean(returns[state][a])\n",
    "    else:\n",
    "        returns[state][action].append(episode_return)\n",
    "        Q_table[state][action] = np.mean(returns[state][action])        "
   ]
  },
  {
   "cell_type": "code",
   "execution_count": null,
   "id": "080a8155",
   "metadata": {},
   "outputs": [],
   "source": [
    "discretizer = Discretizer(config.n_bins)\n",
    "Q_Table = np.zeros((config.n_bins**4, config.num_action))\n",
    "returns = [[[], []] for _ in range(config.n_bins**4)]\n",
    "episode_rewards = []\n",
    "test_episode_rewards = []\n",
    "epsilon = config.epsilon\n",
    "decay_per_step = (epsilon - config.eps_min) / config.decay_step\n",
    "max_test_reward = 0.\n",
    "\n",
    "for episode in range(1, config.total_episode+1):\n",
    "    start_time = datetime.now()\n",
    "    env = gym.make(config.env_name)\n",
    "    state, _ = env.reset()\n",
    "    state = discretizer.get_state_index(discretizer.discretize(state))\n",
    "    done = False\n",
    "\n",
    "    episode_reward = 0.\n",
    "    rewards = []\n",
    "    states = []\n",
    "    actions = []\n",
    "\n",
    "    while not done:\n",
    "        action = select_action(Q_Table, state, epsilon)\n",
    "        next_state, reward, terminated, truncated, info = env.step(action)\n",
    "        next_state = discretizer.get_state_index(discretizer.discretize(next_state))\n",
    "        episode_reward += reward\n",
    "        rewards.append(reward)\n",
    "        states.append(state)\n",
    "        actions.append(action)\n",
    "        done = terminated or truncated\n",
    "        state = next_state\n",
    "    episode_rewards.append(episode_reward)\n",
    "    epsilon = decay_epsilon(epsilon, decay_per_step)\n",
    "\n",
    "    add(config, returns, Q_Table, state, None, 0)\n",
    "    episode_return = 0\n",
    "    for state, action, reward in zip(states[::-1], actions[::-1], rewards[::-1]):\n",
    "        episode_return = episode_return * config.gamma + reward\n",
    "        add(config, returns, Q_Table, state, action, episode_return)\n",
    "    \n",
    "    if episode % 10 == 0:\n",
    "        print(f\"Episode: {episode} Rewards: {episode_reward} Mean_Rewards: {np.array(episode_rewards[-min(100, len(episode_rewards)):]).mean():.4f} Epsilon: {epsilon:.4f} Time: {datetime.now() - start_time}\")\n",
    "\n",
    "    if episode % config.test_frequency == 0:\n",
    "        start_time = datetime.now()\n",
    "        test_episode_reward = test(config, Q_Table, discretizer)\n",
    "        test_episode_rewards.append(test_episode_reward)\n",
    "        max_test_reward = max(max_test_reward, test_episode_reward)\n",
    "        if len(test_episode_rewards) % 10 == 0:\n",
    "            print(f\"Test Episode {len(test_episode_rewards)}: Rewards: {test_episode_reward} \\\n",
    "Mean_Rewards: {np.array(test_episode_rewards[-min(100, len(test_episode_rewards)):]).mean():.4f} Max_Rewards: {max_test_reward} Time: {datetime.now() - start_time}\")"
   ]
  },
  {
   "cell_type": "code",
   "execution_count": null,
   "id": "f9641a99",
   "metadata": {},
   "outputs": [],
   "source": [
    "(np.array(episode_rewards) == 500).sum()/len(episode_rewards), (np.array(test_episode_rewards) == 500).sum()/len(test_episode_rewards)"
   ]
  },
  {
   "cell_type": "code",
   "execution_count": null,
   "id": "aab4fc65",
   "metadata": {},
   "outputs": [],
   "source": [
    "import matplotlib.pyplot as plt\n",
    "\n",
    "train_episodes = list(range(1, len(episode_rewards)+1))\n",
    "test_episodes = list(range(10, len(episode_rewards)+1, 10))  # test sau mỗi 10 train episodes (0-based index)\n",
    "\n",
    "episode_rewards = np.array(episode_rewards)\n",
    "test_episode_rewards = np.array(test_episode_rewards)\n",
    "\n",
    "mean_rewards = []\n",
    "mean_test_rewards = []\n",
    "for i in range(len(episode_rewards)):\n",
    "    mean_rewards.append(episode_rewards[max(0, i-10):i+1].mean())\n",
    "for i in range(len(test_episode_rewards)):\n",
    "    mean_test_rewards.append(test_episode_rewards[max(0, i-10):i+1].mean())\n",
    "\n",
    "plt.figure(figsize=(10, 6))\n",
    "\n",
    "idx_full_rewards = np.array(test_episode_rewards) == 500\n",
    "\n",
    "plt.plot(train_episodes, mean_rewards, label='Train Rewards [Last 10]', alpha=0.5)\n",
    "plt.plot(test_episodes, mean_test_rewards, label='Test Rewards [Last 10]', linewidth=2)\n",
    "plt.scatter(np.array(test_episodes)[idx_full_rewards], \n",
    "            np.array(test_episode_rewards)[idx_full_rewards], label='Test Rewards = 500', alpha=0.6, s=20, color = 'green')\n",
    "\n",
    "plt.xlabel(\"Episode\")\n",
    "plt.ylabel(\"Reward\")\n",
    "plt.title(\"Train vs Test Rewards\")\n",
    "plt.legend()\n",
    "plt.grid(True)\n",
    "plt.tight_layout()\n",
    "plt.show()"
   ]
  },
  {
   "cell_type": "code",
   "execution_count": null,
   "id": "b12230ec",
   "metadata": {},
   "outputs": [],
   "source": [
    "plt.figure(figsize=(10, 6))\n",
    "\n",
    "plt.plot(train_episodes, mean_rewards, label='Train Rewards [Last 10]', alpha=0.5)\n",
    "plt.plot(test_episodes, mean_test_rewards, label='Test Rewards [Last 10]', linewidth=2)\n",
    "\n",
    "plt.xlabel(\"Episode\")\n",
    "plt.ylabel(\"Reward\")\n",
    "plt.title(\"Train vs Test Rewards\")\n",
    "plt.legend()\n",
    "plt.grid(True)\n",
    "plt.tight_layout()\n",
    "plt.show()"
   ]
  },
  {
   "cell_type": "code",
   "execution_count": null,
   "id": "7adbd35f",
   "metadata": {},
   "outputs": [],
   "source": []
  },
  {
   "cell_type": "code",
   "execution_count": null,
   "id": "09ac6fa9",
   "metadata": {},
   "outputs": [],
   "source": []
  }
 ],
 "metadata": {
  "kernelspec": {
   "display_name": "gym",
   "language": "python",
   "name": "python3"
  },
  "language_info": {
   "codemirror_mode": {
    "name": "ipython",
    "version": 3
   },
   "file_extension": ".py",
   "mimetype": "text/x-python",
   "name": "python",
   "nbconvert_exporter": "python",
   "pygments_lexer": "ipython3",
   "version": "3.8.18"
  }
 },
 "nbformat": 4,
 "nbformat_minor": 5
}
